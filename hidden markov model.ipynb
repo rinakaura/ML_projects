{
 "cells": [
  {
   "cell_type": "code",
   "execution_count": 1,
   "metadata": {},
   "outputs": [],
   "source": [
    "#%pip install hmmlearn"
   ]
  },
  {
   "cell_type": "code",
   "execution_count": 2,
   "metadata": {},
   "outputs": [],
   "source": [
    "import numpy as np\n",
    "import math\n",
    "np.random.seed(111)\n",
    "import warnings\n",
    "warnings.filterwarnings('ignore')\n",
    "from matplotlib import cm, pyplot as plt\n",
    "\n",
    "from hmmlearn.hmm import GaussianHMM\n",
    "#import fix_yahoo_finance as yf # The library fetching the stock prices\n",
    "import pickle\n",
    "from sklearn.utils import check_random_state"
   ]
  },
  {
   "cell_type": "markdown",
   "metadata": {},
   "source": [
    "# Task 2: Hidden Markov Model"
   ]
  },
  {
   "cell_type": "markdown",
   "metadata": {},
   "source": [
    "## Task 2.1: Generate sample from GaussianHMM"
   ]
  },
  {
   "cell_type": "code",
   "execution_count": 24,
   "metadata": {},
   "outputs": [
    {
     "name": "stdout",
     "output_type": "stream",
     "text": [
      "startprob\n",
      " [0.6 0.3 0.1 0. ]\n",
      "transmat\n",
      " [[0.7 0.2 0.  0.1]\n",
      " [0.3 0.5 0.2 0. ]\n",
      " [0.  0.3 0.5 0.2]\n",
      " [0.2 0.  0.2 0.6]]\n",
      "covars\n",
      " [[ 0.  0.]\n",
      " [ 0. 11.]\n",
      " [ 9. 10.]\n",
      " [11. -1.]]\n",
      "covars\n",
      " [[0.5 0.5]\n",
      " [0.5 0.5]\n",
      " [0.5 0.5]\n",
      " [0.5 0.5]]\n"
     ]
    }
   ],
   "source": [
    "startprob = np.array([0.6, 0.3, 0.1, 0.0])\n",
    "# The transition matrix, note that there are no transitions possible\n",
    "# between component 1 and 3\n",
    "transmat = np.array([[0.7, 0.2, 0.0, 0.1],\n",
    "                     [0.3, 0.5, 0.2, 0.0],\n",
    "                     [0.0, 0.3, 0.5, 0.2],\n",
    "                     [0.2, 0.0, 0.2, 0.6]])\n",
    "# The means of each component\n",
    "means = np.array( [[0.0, 0.0],\n",
    "                   [0.0, 11.0],\n",
    "                   [9.0, 10.0],\n",
    "                   [11.0, -1.0]])\n",
    "# The covariance of each component\n",
    "covars =  0.5*np.tile(np.ones([1, 2]),(4, 1))\n",
    "\n",
    "# Build an HMM instance and set parameters\n",
    "#ghmm0 = GaussianHMM(n_components=4, covariance_type='full', algorithm=algorithm0)\n",
    "ghmm0 = GaussianHMM(n_components=4)\n",
    "\n",
    "# Instead of fitting it from the data, we directly set the estimated\n",
    "# parameters, the means and covariance of the components\n",
    "ghmm0.startprob_ = startprob\n",
    "ghmm0.transmat_ = transmat\n",
    "ghmm0.means_ = means\n",
    "ghmm0.covars_ = covars\n",
    "print (\"startprob\\n\", startprob)\n",
    "print (\"transmat\\n\", transmat)\n",
    "print (\"means\\n\", means)\n",
    "print ('covars\\n', covars)"
   ]
  },
  {
   "cell_type": "markdown",
   "metadata": {},
   "source": [
    "### Task 2.1.1: Sampling from an HMM model"
   ]
  },
  {
   "cell_type": "code",
   "execution_count": 4,
   "metadata": {
    "scrolled": true
   },
   "outputs": [
    {
     "name": "stdout",
     "output_type": "stream",
     "text": [
      "x0\n",
      " [[-0.16848186 10.12801237]\n",
      " [-0.55687031 10.67512763]\n",
      " [-1.05147365 -0.32099545]\n",
      " [ 0.16892366 -0.41713662]\n",
      " [-0.18531897 -1.23850943]\n",
      " [ 0.34789866  0.30028859]\n",
      " [ 0.01706083 11.10839503]\n",
      " [ 8.71144231  9.9519538 ]\n",
      " [ 9.41499349 11.25687705]\n",
      " [-0.21953733 12.69330135]\n",
      " [-0.64351402 11.82751474]\n",
      " [ 0.24762349 10.89976301]\n",
      " [ 8.93983186 10.98531439]\n",
      " [ 9.76691612 -1.56509066]\n",
      " [ 0.17218648 -1.07282541]]\n",
      "z0 [1. 1. 0. 0. 0. 0. 1. 2. 2. 1. 1. 1. 2. 3. 0.]\n"
     ]
    }
   ],
   "source": [
    "warnings.filterwarnings('ignore')\n",
    "idx0 = 0\n",
    "\n",
    "n_iter = 3\n",
    "n_samples = 15\n",
    "x0 = np.zeros((n_iter,n_samples,2))\n",
    "z0 = np.zeros((n_iter,n_samples))\n",
    "for i in  range(n_iter):\n",
    "    x0[i], z0[i] = ghmm0.sample(n_samples)\n",
    "\n",
    "print ('x0\\n', x0[idx0])\n",
    "print ('z0', z0[idx0])"
   ]
  },
  {
   "cell_type": "code",
   "execution_count": 5,
   "metadata": {},
   "outputs": [
    {
     "name": "stdout",
     "output_type": "stream",
     "text": [
      "x0\n",
      " [[-2.36458178e-01 -2.16393859e-01]\n",
      " [ 1.10268020e+00 -1.27395792e-01]\n",
      " [ 1.47281643e+00 -9.08383138e-01]\n",
      " [-3.27607971e-03  6.42239503e-01]\n",
      " [-6.68418845e-01  3.82666666e-01]\n",
      " [-5.44376551e-01  1.09773592e+01]\n",
      " [-3.14364721e-01  9.44153008e+00]\n",
      " [-6.25384586e-01  2.66740077e-01]\n",
      " [ 1.12455483e+01 -1.19532803e+00]\n",
      " [ 1.17397860e+01 -1.63978923e+00]\n",
      " [ 1.14309864e+01 -1.41306035e+00]\n",
      " [-7.06773328e-01 -4.63183857e-01]\n",
      " [ 1.11895532e+01 -5.60188477e-01]\n",
      " [ 5.49338968e-01  1.76972352e-01]\n",
      " [ 4.23800582e-01  1.52316243e-01]]\n",
      "z0 [0. 0. 0. 0. 0. 1. 1. 0. 3. 3. 3. 0. 3. 0. 0.]\n"
     ]
    }
   ],
   "source": [
    "print ('x0\\n', x0[1])\n",
    "print ('z0', z0[1])"
   ]
  },
  {
   "cell_type": "code",
   "execution_count": 6,
   "metadata": {},
   "outputs": [
    {
     "name": "stdout",
     "output_type": "stream",
     "text": [
      "x0\n",
      " [[ 0.23457245  0.160677  ]\n",
      " [-0.26105583 -0.72827484]\n",
      " [ 1.31592531 -1.67068609]\n",
      " [-0.21839317  1.48713214]\n",
      " [-0.16402666 -0.70312786]\n",
      " [ 0.0733407  -0.02369465]\n",
      " [ 0.36072963  0.59995614]\n",
      " [10.02987454 -0.68486892]\n",
      " [10.94658557 -1.30825047]\n",
      " [ 8.87757207  9.34549608]\n",
      " [11.54674369 -1.65859336]\n",
      " [11.15872142 -1.33970802]\n",
      " [ 9.85127866  9.73217442]\n",
      " [-1.79128833 11.46099763]\n",
      " [ 9.0029333  10.92693438]]\n",
      "z0 [0. 0. 0. 0. 0. 0. 0. 3. 3. 2. 3. 3. 2. 1. 2.]\n"
     ]
    }
   ],
   "source": [
    "print ('x0\\n', x0[2])\n",
    "print ('z0', z0[2])"
   ]
  },
  {
   "cell_type": "markdown",
   "metadata": {},
   "source": [
    "### Task 2.1.3: Posterior Probability"
   ]
  },
  {
   "cell_type": "code",
   "execution_count": 7,
   "metadata": {},
   "outputs": [
    {
     "name": "stdout",
     "output_type": "stream",
     "text": [
      "[[0. 1. 0. 0.]\n",
      " [0. 1. 0. 0.]\n",
      " [1. 0. 0. 0.]\n",
      " [1. 0. 0. 0.]\n",
      " [1. 0. 0. 0.]\n",
      " [1. 0. 0. 0.]\n",
      " [0. 1. 0. 0.]\n",
      " [0. 0. 1. 0.]\n",
      " [0. 0. 1. 0.]\n",
      " [0. 1. 0. 0.]\n",
      " [0. 1. 0. 0.]\n",
      " [0. 1. 0. 0.]\n",
      " [0. 0. 1. 0.]\n",
      " [0. 0. 0. 1.]\n",
      " [1. 0. 0. 0.]]\n"
     ]
    }
   ],
   "source": [
    "POSTERIOR0 = ghmm0.predict_proba(x0[0])\n",
    "POSTERIOR0[POSTERIOR0<1e-10] = 0\n",
    "print (POSTERIOR0)"
   ]
  },
  {
   "cell_type": "markdown",
   "metadata": {},
   "source": [
    "## Task 2.2: Learn another HMM from Samples"
   ]
  },
  {
   "cell_type": "markdown",
   "metadata": {},
   "source": [
    "### Task 2.2.1: Choose one and fit ont it"
   ]
  },
  {
   "cell_type": "code",
   "execution_count": 23,
   "metadata": {},
   "outputs": [
    {
     "name": "stderr",
     "output_type": "stream",
     "text": [
      "Fitting a model with 31 free scalar parameters with only 30 data points will result in a degenerate solution.\n"
     ]
    },
    {
     "name": "stdout",
     "output_type": "stream",
     "text": [
      "startprob\n",
      " [1. 0. 0. 0.]\n",
      "transmat\n",
      " [[8.00000000e-001 1.02207811e-208 2.00000000e-001 0.00000000e+000]\n",
      " [1.00000000e+000 2.05323770e-309 0.00000000e+000 4.50905891e-216]\n",
      " [1.97516241e-300 5.00000000e-001 0.00000000e+000 5.00000000e-001]\n",
      " [1.00000000e+000 0.00000000e+000 0.00000000e+000 0.00000000e+000]]\n",
      "means\n",
      " [[-0.17013664  5.87117598]\n",
      " [ 9.41499349 11.25687705]\n",
      " [ 8.82563708 10.46863409]\n",
      " [ 9.76691612 -1.56509066]]\n",
      "covars\n",
      " [[[1.70286516e-01 0.00000000e+00]\n",
      "  [0.00000000e+00 3.48755050e+01]]\n",
      "\n",
      " [[1.00000000e-02 0.00000000e+00]\n",
      "  [0.00000000e+00 1.00000000e-02]]\n",
      "\n",
      " [[1.80404465e-02 0.00000000e+00]\n",
      "  [0.00000000e+00 2.71958530e-01]]\n",
      "\n",
      " [[1.00000000e-02 0.00000000e+00]\n",
      "  [0.00000000e+00 1.00000000e-02]]]\n"
     ]
    }
   ],
   "source": [
    "ghmm1 = GaussianHMM(n_components=4, n_iter=500)\n",
    "ghmm1.fit(x0[0])\n",
    "print (\"startprob\\n\",ghmm1.startprob_)\n",
    "print (\"transmat\\n\", ghmm1.transmat_)\n",
    "print (\"means\\n\",ghmm1.means_)\n",
    "print (\"covars\\n\",ghmm1.covars_)"
   ]
  },
  {
   "cell_type": "markdown",
   "metadata": {},
   "source": [
    "### Task 2.2.2: Concatenate 3 sequences"
   ]
  },
  {
   "cell_type": "code",
   "execution_count": 9,
   "metadata": {},
   "outputs": [
    {
     "name": "stdout",
     "output_type": "stream",
     "text": [
      "startprob\n",
      " [3.33333333e-001 6.66666667e-001 0.00000000e+000 1.85209905e-286]\n",
      "transmat\n",
      " [[4.44444444e-001 2.22222222e-001 3.33333333e-001 1.24511863e-120]\n",
      " [1.05263158e-001 7.36842105e-001 2.39189962e-163 1.57894737e-001]\n",
      " [4.00000000e-001 2.50313668e-160 2.00000000e-001 4.00000000e-001]\n",
      " [6.20682474e-136 3.33333333e-001 2.22222222e-001 4.44444444e-001]]\n",
      "means\n",
      " [[-0.44152764 11.02355567]\n",
      " [ 0.1000778  -0.17721992]\n",
      " [ 9.13300861 10.36645835]\n",
      " [11.00607948 -1.26276417]]\n",
      "covars\n",
      " [[[0.302419   0.        ]\n",
      "  [0.         0.78740196]]\n",
      "\n",
      " [[0.40207535 0.        ]\n",
      "  [0.         0.5049387 ]]\n",
      "\n",
      " [[0.15043836 0.        ]\n",
      "  [0.         0.51940929]]\n",
      "\n",
      " [[0.40305977 0.        ]\n",
      "  [0.         0.14032571]]]\n"
     ]
    }
   ],
   "source": [
    "lengthscon = np.array([15, 15, 15])\n",
    "xcon = np.concatenate([x0[0], x0[1], x0[2]])\n",
    "ghmm1con = GaussianHMM(n_components=4, n_iter=500)\n",
    "ghmm1con.fit(xcon, lengthscon)\n",
    "print (\"startprob\\n\",ghmm1con.startprob_)\n",
    "print (\"transmat\\n\", ghmm1con.transmat_)\n",
    "print (\"means\\n\",ghmm1con.means_)\n",
    "print (\"covars\\n\",ghmm1con.covars_)"
   ]
  },
  {
   "cell_type": "markdown",
   "metadata": {},
   "source": [
    "### Task 2.2.3: Predict states"
   ]
  },
  {
   "cell_type": "code",
   "execution_count": 10,
   "metadata": {},
   "outputs": [
    {
     "name": "stdout",
     "output_type": "stream",
     "text": [
      "z0 [1 1 0 0 0 0 1 2 2 1 1 1 2 3 0]\n",
      "z1 [1 1 0 0 0 0 1 2 2 1 1 1 2 3 0]\n",
      "z2 [1 0 3 1 3 1 0 2 2 1 0 0 2 3 1]\n"
     ]
    }
   ],
   "source": [
    "z1 = ghmm0.predict(x0[0])\n",
    "z2 = ghmm1.predict(x0[0])\n",
    "print ('z0', z0[idx0].astype(int))\n",
    "print ('z1', z1)\n",
    "print ('z2', z2)"
   ]
  },
  {
   "cell_type": "markdown",
   "metadata": {},
   "source": [
    "## Task 2.3: HMM inference for real: Stock Market Prediction"
   ]
  },
  {
   "cell_type": "code",
   "execution_count": 11,
   "metadata": {},
   "outputs": [],
   "source": [
    "\"\"\"\n",
    "quotes = pickle.load(open('my_quotes.obj', 'rb'))\n",
    "\"\"\"\n",
    "try:\n",
    "    with open('my_quotes_1.obj', 'rb') as fo:\n",
    "        quotes = pickle.load(fo)\n",
    "except:\n",
    "    with open('my_quotes_1.obj', 'rb') as f:\n",
    "        u = pickle._Unpickler(f)\n",
    "        u.encoding = 'latin1'\n",
    "        quotes = u.load()"
   ]
  },
  {
   "cell_type": "code",
   "execution_count": 12,
   "metadata": {},
   "outputs": [],
   "source": [
    "diff_c = np.diff(quotes.Close)"
   ]
  },
  {
   "cell_type": "code",
   "execution_count": 13,
   "metadata": {},
   "outputs": [],
   "source": [
    "binom1 = np.column_stack([diff_c[:100], quotes.Volume[1:101]/3e7])"
   ]
  },
  {
   "cell_type": "code",
   "execution_count": 14,
   "metadata": {},
   "outputs": [
    {
     "data": {
      "text/plain": [
       "GaussianHMM(n_components=3)"
      ]
     },
     "execution_count": 14,
     "metadata": {},
     "output_type": "execute_result"
    }
   ],
   "source": [
    "ghmm2 = GaussianHMM(n_components=3, covariance_type='diag')\n",
    "ghmm2.fit(binom1)"
   ]
  },
  {
   "cell_type": "code",
   "execution_count": 15,
   "metadata": {},
   "outputs": [],
   "source": [
    "states = ghmm2.predict(binom1)"
   ]
  },
  {
   "cell_type": "markdown",
   "metadata": {},
   "source": [
    "### Task 2.3.1: New Model for Stock"
   ]
  },
  {
   "cell_type": "code",
   "execution_count": 16,
   "metadata": {},
   "outputs": [
    {
     "name": "stdout",
     "output_type": "stream",
     "text": [
      "startprob\n",
      " [1.00000000e+000 8.46722712e-012 2.80782813e-146]\n",
      "transmat\n",
      " [[8.69906689e-01 1.05710424e-01 2.43828862e-02]\n",
      " [3.55433717e-01 5.94646637e-01 4.99196453e-02]\n",
      " [1.05933071e-06 9.99998941e-01 1.03508511e-10]]\n",
      "means\n",
      " [[ 0.03060726  0.64199775]\n",
      " [ 0.01656065  1.0046085 ]\n",
      " [-0.98340292  1.75570233]]\n",
      "covars\n",
      " [[[0.04062596 0.        ]\n",
      "  [0.         0.01431562]]\n",
      "\n",
      " [[0.15249465 0.        ]\n",
      "  [0.         0.04223573]]\n",
      "\n",
      " [[0.05219071 0.        ]\n",
      "  [0.         0.01818226]]]\n"
     ]
    }
   ],
   "source": [
    "print (\"startprob\\n\",ghmm2.startprob_)\n",
    "print (\"transmat\\n\", ghmm2.transmat_)\n",
    "print (\"means\\n\",ghmm2.means_)\n",
    "print (\"covars\\n\",ghmm2.covars_)"
   ]
  },
  {
   "cell_type": "markdown",
   "metadata": {},
   "source": [
    "### Task 2.3.2: Visualization of States"
   ]
  },
  {
   "cell_type": "code",
   "execution_count": 17,
   "metadata": {},
   "outputs": [
    {
     "data": {
      "image/png": "[encoded data removed]",
      "text/plain": [
       "<Figure size 432x288 with 4 Axes>"
      ]
     },
     "metadata": {
      "needs_background": "light"
     },
     "output_type": "display_data"
    }
   ],
   "source": [
    "close_p = quotes.Close[1:101]\n",
    "dates = np.arange(len(close_p))\n",
    "\n",
    "fig, axs = plt.subplots(ghmm2.n_components+1, sharex=True, sharey=True)\n",
    "colours = cm.rainbow(np.linspace(0, 1, ghmm2.n_components))\n",
    "axs[0].plot(dates, close_p)\n",
    "axs[0].set_title(\"Closing prices from day 1 to day 100.\")\n",
    "axs[0].grid(True)\n",
    "for i  in range(1,ghmm2.n_components+1):\n",
    "    mask = states == i-1\n",
    "    axs[i].plot(dates[mask], close_p[mask], \".-\", c=colours[i-1])\n",
    "    axs[i].set_title(\"#{0} hidden state\".format(i-1))\n",
    "\n",
    "    axs[i].grid(True)\n",
    "\n",
    "plt.show()"
   ]
  },
  {
   "cell_type": "markdown",
   "metadata": {},
   "source": [
    "### Task 2.3.3: Market Prediction"
   ]
  },
  {
   "cell_type": "code",
   "execution_count": 18,
   "metadata": {},
   "outputs": [],
   "source": [
    "L=15 # We would like to predict the following 15 days' trend\n",
    "Niter = 10 # A hyper parameter of generating samples\n",
    "\n",
    "warnings.filterwarnings('ignore')\n",
    "binom0 = np.column_stack([np.diff(quotes.Close), np.array(quotes.Volume)[1:]/3e7])\n",
    "binom2 = np.copy(binom1)\n",
    "\n",
    "startprob_cdf = np.cumsum(ghmm2.startprob_)\n",
    "transmat_cdf = np.cumsum(ghmm2.transmat_, axis=1)\n",
    "random_state = ghmm2.random_state\n",
    "\n",
    "rs = check_random_state(None)\n",
    "\n",
    "for l in range(L):\n",
    "    binom2 = np.append(binom2,[[0,0]],axis=0) # Add a pair of empty (d,v)\n",
    "    true_binom = np.copy(binom0[:len(binom1)+l])\n",
    "    state_seq = ghmm2.predict(binom0[:len(binom1) + 1])\n",
    "    previous_state = state_seq[-1]\n",
    "    \n",
    "    maxLL = -1e10\n",
    "    for n in range(Niter):\n",
    "        currstate = (transmat_cdf[previous_state]> rs.rand() ).argmax() # Go through transmat to get a new state\n",
    "       \n",
    "        new_sample = ghmm2.sample(L)[0][0] # generate from the new state\n",
    "        tmp_binom = np.copy(true_binom)\n",
    "        tmp_binom = np.append(tmp_binom,[new_sample],axis=0) # Append the new_sample for score\n",
    "        tmp_maxLL = ghmm2.score(tmp_binom) # \n",
    "        if tmp_maxLL > maxLL :\n",
    "\n",
    "                maxLL = tmp_maxLL\n",
    "                binom2[-1][0] = new_sample[0]\n",
    "                binom2[-1][1] = new_sample[1]"
   ]
  },
  {
   "cell_type": "code",
   "execution_count": 19,
   "metadata": {},
   "outputs": [
    {
     "name": "stdout",
     "output_type": "stream",
     "text": [
      "115\n"
     ]
    },
    {
     "data": {
      "text/plain": [
       "Text(0.5, 1.0, 'Closing Prices')"
      ]
     },
     "execution_count": 19,
     "metadata": {},
     "output_type": "execute_result"
    },
    {
     "data": {
      "image/png": "[encoded data removed]",
      "text/plain": [
       "<Figure size 432x288 with 1 Axes>"
      ]
     },
     "metadata": {
      "needs_background": "light"
     },
     "output_type": "display_data"
    }
   ],
   "source": [
    "# The curve after day 100 is the predicted trend.\n",
    "\n",
    "date2 = dates = np.arange(len(binom2))\n",
    "print (len(date2))\n",
    "plt.figure()\n",
    "plt.plot(date2, quotes.Close[0]+np.cumsum(binom2[:,0]))\n",
    "plt.plot(date2, quotes.Close[:len(binom1)+L])#[100:100+25])\n",
    "plt.grid(True)\n",
    "plt.legend(('predicted', 'ground truth'))\n",
    "plt.title(\"Closing Prices\")"
   ]
  },
  {
   "cell_type": "code",
   "execution_count": 20,
   "metadata": {},
   "outputs": [
    {
     "data": {
      "text/plain": [
       "Text(0.5, 1.0, 'Volume')"
      ]
     },
     "execution_count": 20,
     "metadata": {},
     "output_type": "execute_result"
    },
    {
     "data": {
      "image/png": "[encoded data removed]",
      "text/plain": [
       "<Figure size 432x288 with 1 Axes>"
      ]
     },
     "metadata": {
      "needs_background": "light"
     },
     "output_type": "display_data"
    }
   ],
   "source": [
    "# The curve after day 100 is the predicted trend.\n",
    "\n",
    "plt.figure()\n",
    "plt.plot(date2, binom2[:,1]*3e7)\n",
    "plt.plot(date2, quotes.Volume[0:len(binom1)+L])#[100:100+25])\n",
    "plt.grid(True)\n",
    "plt.legend(('predicted', 'ground truth'))\n",
    "plt.title(\"Volume\")"
   ]
  },
  {
   "cell_type": "code",
   "execution_count": null,
   "metadata": {},
   "outputs": [],
   "source": []
  }
 ],
 "metadata": {
  "kernelspec": {
   "display_name": "Python 3 (ipykernel)",
   "language": "python",
   "name": "python3"
  },
  "language_info": {
   "codemirror_mode": {
    "name": "ipython",
    "version": 3
   },
   "file_extension": ".py",
   "mimetype": "text/x-python",
   "name": "python",
   "nbconvert_exporter": "python",
   "pygments_lexer": "ipython3",
   "version": "3.9.5"
  }
 },
 "nbformat": 4,
 "nbformat_minor": 2
}
